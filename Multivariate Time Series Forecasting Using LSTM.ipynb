{
 "cells": [
  {
   "cell_type": "markdown",
   "id": "7d897d45",
   "metadata": {},
   "source": [
    "### Apple Stock Price Prediction using LSTM"
   ]
  },
  {
   "cell_type": "markdown",
   "id": "8efe5a5a",
   "metadata": {},
   "source": []
  }
 ],
 "metadata": {
  "language_info": {
   "name": "python"
  }
 },
 "nbformat": 4,
 "nbformat_minor": 5
}
